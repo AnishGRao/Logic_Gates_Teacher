{
 "cells": [
  {
   "cell_type": "code",
   "execution_count": 508,
   "metadata": {},
   "outputs": [],
   "source": [
    "#gates in python with next-state logic, fml this was so obvious\n",
    "from functools import reduce\n",
    "from operator import iand\n",
    "from operator import ior"
   ]
  },
  {
   "cell_type": "code",
   "execution_count": 509,
   "metadata": {},
   "outputs": [],
   "source": [
    "%%bash --out input\n",
    "cat mux_example.txt"
   ]
  },
  {
   "cell_type": "code",
   "execution_count": 510,
   "metadata": {},
   "outputs": [],
   "source": [
    "#format it\n",
    "input=input.splitlines()"
   ]
  },
  {
   "cell_type": "code",
   "execution_count": 511,
   "metadata": {},
   "outputs": [
    {
     "name": "stdout",
     "output_type": "stream",
     "text": [
      "3\n",
      "1\n",
      "['I0', 'A', 'I1']\n"
     ]
    }
   ],
   "source": [
    "num_inputs=int(input[0])\n",
    "num_outputs=int(input[1])\n",
    "input_names=input[2:3+num_inputs-1]\n",
    "input_names=[x.strip() for x in input_names]\n",
    "print(num_inputs)\n",
    "print(num_outputs)\n",
    "print(input_names)"
   ]
  },
  {
   "cell_type": "code",
   "execution_count": 512,
   "metadata": {},
   "outputs": [
    {
     "name": "stdout",
     "output_type": "stream",
     "text": [
      "4\n"
     ]
    }
   ],
   "source": [
    "num_gates=int(input[2+num_inputs])\n",
    "print(num_gates)"
   ]
  },
  {
   "cell_type": "code",
   "execution_count": 513,
   "metadata": {},
   "outputs": [
    {
     "name": "stdout",
     "output_type": "stream",
     "text": [
      "['NAND0 ', 'NAND0 NAND1 NAND1', 'NAND3']\n"
     ]
    }
   ],
   "source": [
    "gate_names=input[3+num_inputs:3+num_gates+num_inputs]\n",
    "gate_names=[x.strip() for x in gate_names]\n",
    "input_locations=input[num_gates+1+num_inputs+2:num_gates+1+num_inputs+2+num_inputs]\n",
    "print(input_locations)"
   ]
  },
  {
   "cell_type": "code",
   "execution_count": 514,
   "metadata": {},
   "outputs": [
    {
     "name": "stdout",
     "output_type": "stream",
     "text": [
      "['', '', 'NAND0 NAND3', 'NAND1']\n"
     ]
    }
   ],
   "source": [
    "gate_inputs=input[num_gates+1+num_inputs+2+num_inputs:num_gates+1+num_inputs+2+num_inputs+num_gates]\n",
    "gate_inputs=[x.strip() for x in gate_inputs]\n",
    "print(gate_inputs)"
   ]
  },
  {
   "cell_type": "code",
   "execution_count": 515,
   "metadata": {},
   "outputs": [
    {
     "name": "stdout",
     "output_type": "stream",
     "text": [
      "['2', '2', '2', '2']\n",
      "NAND2\n",
      "10\n",
      "False\n"
     ]
    }
   ],
   "source": [
    "gate_types=input[num_gates+1+num_inputs+2+num_inputs+num_gates:num_gates+1+num_inputs+2+num_inputs+num_gates*2]\n",
    "output_gate=input[num_gates+1+num_inputs+2+num_inputs+num_gates*2]\n",
    "output_gate=output_gate.strip()\n",
    "num_cycles=int(input[num_gates+1+num_inputs+2+num_inputs+num_gates*2+1])\n",
    "verbose=int(input[num_gates+1+num_inputs+2+num_inputs+num_gates*2+2])==1\n",
    "print(gate_types)\n",
    "print(output_gate)\n",
    "print(num_cycles)\n",
    "print(verbose)"
   ]
  },
  {
   "cell_type": "code",
   "execution_count": 520,
   "metadata": {},
   "outputs": [
    {
     "name": "stdout",
     "output_type": "stream",
     "text": [
      "['000', '001', '010', '011', '100', '101', '110', '111']\n"
     ]
    }
   ],
   "source": [
    "all_perms=[]\n",
    "def permute(sz, str=\"\"):\n",
    "    if len(str)==sz:\n",
    "        all_perms.append(str)\n",
    "        return\n",
    "    for bit in '01':\n",
    "        permute(sz,str+bit)\n",
    "permute(len(input_names))\n",
    "print(all_perms)\n",
    "truth_table_output=[]\n",
    "oLoc=gate_names.index(output_gate)"
   ]
  },
  {
   "cell_type": "code",
   "execution_count": 521,
   "metadata": {},
   "outputs": [],
   "source": [
    "for curr_input_perm in all_perms:\n",
    "    OUTPUT=[[] for i in range(num_cycles)]\n",
    "    #input_arr=[1 for i in range(num_gates)]\n",
    "    #TODO REMOVE HARDCODING\n",
    "    input_arr=list(map(int,list(curr_input_perm)))\n",
    "    current_state=[0 for i in range(num_gates)]\n",
    "    next_state=[0 for i in range(num_gates)]\n",
    "    gate_deps=[[] for i in range(num_gates)]\n",
    "    counter=0\n",
    "    for i in input_locations:\n",
    "        temp_arr=i.split()\n",
    "        for i in temp_arr:\n",
    "            loc=gate_names.index(i)\n",
    "            gate_deps[loc].append(-(counter+1))\n",
    "        counter=counter+1\n",
    "    for i in range(num_gates):\n",
    "        temp_arr=gate_inputs[i].split()\n",
    "        for j in temp_arr:\n",
    "            gate_deps[i].append(gate_names.index(j))\n",
    "    #gate_deps = [list(set(x)) for x in gate_deps]\n",
    "    def logic(dependencies,gate_type):\n",
    "        curr_arr=[]\n",
    "        for i in dependencies:\n",
    "            if (i<0):\n",
    "                curr_arr.append(input_arr[-1*i -1])\n",
    "            else:\n",
    "                curr_arr.append(current_state[i])\n",
    "        if gate_type == 0:\n",
    "            return reduce(lambda x, y: x & y, curr_arr)\n",
    "        elif gate_type == 1:\n",
    "            return reduce(lambda x, y: x | y, curr_arr)\n",
    "        elif gate_type == 2:\n",
    "            return (reduce(lambda x, y: not (x & y), curr_arr))\n",
    "    for i in range(num_cycles):\n",
    "        OUTPUT[i]=current_state.copy()\n",
    "        for j in range(num_gates):\n",
    "            next_state[j]=logic(gate_deps[j],int(gate_types[j]))\n",
    "            #print(next_state)\n",
    "        current_state=next_state\n",
    "    def remove_adjacent(nums):\n",
    "         return [a for a,b in zip(nums, nums[1:]+[not nums[-1]]) if a != b]\n",
    "    if not verbose:\n",
    "        OUTPUT=remove_adjacent(OUTPUT)\n",
    "    truth_table_output.append(OUTPUT[-1][oLoc])"
   ]
  },
  {
   "cell_type": "code",
   "execution_count": 532,
   "metadata": {},
   "outputs": [
    {
     "name": "stdout",
     "output_type": "stream",
     "text": [
      "I0               A                I1               \t\tNAND2            \n",
      "0                0                0                               0 \n",
      "0                0                1                               1 \n",
      "0                1                0                               0 \n",
      "0                1                1                               0 \n",
      "1                0                0                               0 \n",
      "1                0                1                               1 \n",
      "1                1                0                               1 \n",
      "1                1                1                               1 \n"
     ]
    }
   ],
   "source": [
    "str=\"\"\n",
    "for i in input_names:\n",
    "    str+='{:16} '.format(i)\n",
    "str+='\\t\\t{:16} '.format(gate_names[oLoc])\n",
    "print(str)\n",
    "str=\"\"\n",
    "count=0\n",
    "for i in all_perms:\n",
    "    for j in i:\n",
    "        str+='{:16} '.format(j)\n",
    "    str+='{:16} '.format(truth_table_output[count])\n",
    "    count+=1\n",
    "    print(str)\n",
    "    str=\"\""
   ]
  },
  {
   "cell_type": "code",
   "execution_count": null,
   "metadata": {},
   "outputs": [],
   "source": [
    "# instr='{:16}{:30}{:50}'.format(\"Gates\\t|\",\"Gate Dependencies\\t\\t\\t|\",\"Cycles\")\n",
    "# print(instr)\n",
    "# for i in gate_names:\n",
    "#     cLoc=gate_names.index(i)\n",
    "#     instr='{:16}'.format(\"Gate \"+i+\"\\t|\")\n",
    "#     print(instr,end=\" \")\n",
    "#     str=[]\n",
    "#     for x in gate_deps[cLoc]:\n",
    "#         if x<0:\n",
    "#             str.append(input_names[-1*x-1])\n",
    "#         else:\n",
    "#             str.append(gate_names[x])\n",
    "#     if len(str)>1:\n",
    "#         if int(gate_types[cLoc]) == 0:\n",
    "#             for b in range(0,len(str)):\n",
    "#                 str.insert(b*2,'&')\n",
    "#         elif int(gate_types[cLoc]) == 1:\n",
    "#             for b in range(0,len(str)):\n",
    "#                 str.insert(b*2,'|')\n",
    "#         elif int(gate_types[cLoc]) == 2:\n",
    "#             for b in range(0,len(str)):\n",
    "#                 str.insert(b*2,'!&')\n",
    "#         str.pop(0)\n",
    "#     str=''.join(str)\n",
    "#     str='{:30}\\t|'.format(str)\n",
    "#     print(str,end=\" \")\n",
    "#     for j in OUTPUT:\n",
    "#         nstr='{:1} |'.format(j[cLoc])\n",
    "#         print(nstr,end=\" \")\n",
    "#     print()\n",
    "    \n",
    "# print(\"------------------------------------------------------------------------------\")\n",
    "# print(\"OUTPUT OVER TIME: \",end=\" \")\n",
    "# for j in OUTPUT:\n",
    "#     print(j[gate_names.index(output_gate)],end=\" \")\n",
    "#     if not (j == OUTPUT[-1]):\n",
    "#         print(\" -> \", end=\" \")"
   ]
  },
  {
   "cell_type": "code",
   "execution_count": null,
   "metadata": {},
   "outputs": [],
   "source": []
  },
  {
   "cell_type": "code",
   "execution_count": null,
   "metadata": {},
   "outputs": [],
   "source": []
  }
 ],
 "metadata": {
  "kernelspec": {
   "display_name": "Python 3",
   "language": "python",
   "name": "python3"
  },
  "language_info": {
   "codemirror_mode": {
    "name": "ipython",
    "version": 3
   },
   "file_extension": ".py",
   "mimetype": "text/x-python",
   "name": "python",
   "nbconvert_exporter": "python",
   "pygments_lexer": "ipython3",
   "version": "3.7.6"
  }
 },
 "nbformat": 4,
 "nbformat_minor": 4
}
