{
 "cells": [
  {
   "cell_type": "code",
   "execution_count": 508,
   "metadata": {},
   "outputs": [],
   "source": [
    "#gates in python with next-state logic, fml this was so obvious\n",
    "from functools import reduce\n",
    "from operator import iand\n",
    "from operator import ior"
   ]
  },
  {
   "cell_type": "code",
   "execution_count": 509,
   "metadata": {},
   "outputs": [],
   "source": [
    "%%bash --out input\n",
    "cat mux_example.txt"
   ]
  },
  {
   "cell_type": "code",
   "execution_count": 510,
   "metadata": {},
   "outputs": [],
   "source": [
    "#format it\n",
    "input=input.splitlines()"
   ]
  },
  {
   "cell_type": "code",
   "execution_count": 511,
   "metadata": {},
   "outputs": [
    {
     "name": "stdout",
     "output_type": "stream",
     "text": [
      "3\n",
      "1\n",
      "['I0', 'A', 'I1']\n"
     ]
    }
   ],
   "source": [
    "num_inputs=int(input[0])\n",
    "num_outputs=int(input[1])\n",
    "input_names=input[2:3+num_inputs-1]\n",
    "input_names=[x.strip() for x in input_names]\n",
    "print(num_inputs)\n",
    "print(num_outputs)\n",
    "print(input_names)"
   ]
  },
  {
   "cell_type": "code",
   "execution_count": 512,
   "metadata": {},
   "outputs": [
    {
     "name": "stdout",
     "output_type": "stream",
     "text": [
      "4\n"
     ]
    }
   ],
   "source": [
    "num_gates=int(input[2+num_inputs])\n",
    "print(num_gates)"
   ]
  },
  {
   "cell_type": "code",
   "execution_count": 513,
   "metadata": {},
   "outputs": [
    {
     "name": "stdout",
     "output_type": "stream",
     "text": [
      "['NAND0 ', 'NAND0 NAND1 NAND1', 'NAND3']\n"
     ]
    }
   ],
   "source": [
    "gate_names=input[3+num_inputs:3+num_gates+num_inputs]\n",
    "gate_names=[x.strip() for x in gate_names]\n",
    "input_locations=input[num_gates+1+num_inputs+2:num_gates+1+num_inputs+2+num_inputs]\n",
    "print(input_locations)"
   ]
  },
  {
   "cell_type": "code",
   "execution_count": 514,
   "metadata": {},
   "outputs": [
    {
     "name": "stdout",
     "output_type": "stream",
     "text": [
      "['', '', 'NAND0 NAND3', 'NAND1']\n"
     ]
    }
   ],
   "source": [
    "gate_inputs=input[num_gates+1+num_inputs+2+num_inputs:num_gates+1+num_inputs+2+num_inputs+num_gates]\n",
    "gate_inputs=[x.strip() for x in gate_inputs]\n",
    "print(gate_inputs)"
   ]
  },
  {
   "cell_type": "code",
   "execution_count": 515,
   "metadata": {},
   "outputs": [
    {
     "name": "stdout",
     "output_type": "stream",
     "text": [
      "['2', '2', '2', '2']\n",
      "NAND2\n",
      "10\n",
      "False\n"
     ]
    }
   ],
   "source": [
    "gate_types=input[num_gates+1+num_inputs+2+num_inputs+num_gates:num_gates+1+num_inputs+2+num_inputs+num_gates*2]\n",
    "output_gate=input[num_gates+1+num_inputs+2+num_inputs+num_gates*2]\n",
    "output_gate=output_gate.strip()\n",
    "num_cycles=int(input[num_gates+1+num_inputs+2+num_inputs+num_gates*2+1])\n",
    "verbose=int(input[num_gates+1+num_inputs+2+num_inputs+num_gates*2+2])==1\n",
    "print(gate_types)\n",
    "print(output_gate)\n",
    "print(num_cycles)\n",
    "print(verbose)"
   ]
  },
  {
   "cell_type": "code",
   "execution_count": 520,
   "metadata": {},
   "outputs": [
    {
     "name": "stdout",
     "output_type": "stream",
     "text": [
      "['000', '001', '010', '011', '100', '101', '110', '111']\n"
     ]
    }
   ],
   "source": [
    "all_perms=[]\n",
    "def permute(sz, str=\"\"):\n",
    "    if len(str)==sz:\n",
    "        all_perms.append(str)\n",
    "        return\n",
    "    for bit in '01':\n",
    "        permute(sz,str+bit)\n",
    "permute(len(input_names))\n",
    "print(all_perms)\n",
    "truth_table_output=[]\n",
    "oLoc=gate_names.index(output_gate)"
   ]
  },
  {
   "cell_type": "code",
   "execution_count": 521,
   "metadata": {},
   "outputs": [],
   "source": [
    "for curr_input_perm in all_perms:\n",
    "    OUTPUT=[[] for i in range(num_cycles)]\n",
    "    #input_arr=[1 for i in range(num_gates)]\n",
    "    #TODO REMOVE HARDCODING\n",
    "    input_arr=list(map(int,list(curr_input_perm)))\n",
    "    current_state=[0 for i in range(num_gates)]\n",
    "    next_state=[0 for i in range(num_gates)]\n",
    "    gate_deps=[[] for i in range(num_gates)]\n",
    "    counter=0\n",
    "    for i in input_locations:\n",
    "        temp_arr=i.split()\n",
    "        for i in temp_arr:\n",
    "            loc=gate_names.index(i)\n",
    "            gate_deps[loc].append(-(counter+1))\n",
    "        counter=counter+1\n",
    "    for i in range(num_gates):\n",
    "        temp_arr=gate_inputs[i].split()\n",
    "        for j in temp_arr:\n",
    "            gate_deps[i].append(gate_names.index(j))\n",
    "    #gate_deps = [list(set(x)) for x in gate_deps]\n",
    "    def logic(dependencies,gate_type):\n",
    "        curr_arr=[]\n",
    "        for i in dependencies:\n",
    "            if (i<0):\n",
    "                curr_arr.append(input_arr[-1*i -1])\n",
    "            else:\n",
    "                curr_arr.append(current_state[i])\n",
    "        if gate_type == 0:\n",
    "            return reduce(lambda x, y: x & y, curr_arr)\n",
    "        elif gate_type == 1:\n",
    "            return reduce(lambda x, y: x | y, curr_arr)\n",
    "        elif gate_type == 2:\n",
    "            return (reduce(lambda x, y: not (x & y), curr_arr))\n",
    "    for i in range(num_cycles):\n",
    "        OUTPUT[i]=current_state.copy()\n",
    "        for j in range(num_gates):\n",
    "            next_state[j]=logic(gate_deps[j],int(gate_types[j]))\n",
    "            #print(next_state)\n",
    "        current_state=next_state\n",
    "    def remove_adjacent(nums):\n",
    "         return [a for a,b in zip(nums, nums[1:]+[not nums[-1]]) if a != b]\n",
    "    if not verbose:\n",
    "        OUTPUT=remove_adjacent(OUTPUT)\n",
    "    truth_table_output.append(OUTPUT[-1][oLoc])"
   ]
  },
  {
   "cell_type": "code",
   "execution_count": 532,
   "metadata": {},
   "outputs": [
    {
     "name": "stdout",
     "output_type": "stream",
     "text": [
      "I0               A                I1               \t\tNAND2            \n",
      "0                0                0                               0 \n",
      "0                0                1                               1 \n",
      "0                1                0                               0 \n",
      "0                1                1                               0 \n",
      "1                0                0                               0 \n",
      "1                0                1                               1 \n",
      "1                1                0                               1 \n",
      "1                1                1                               1 \n"
     ]
    }
   ],
   "source": [
    "str=\"\"\n",
    "for i in input_names:\n",
    "    str+='{:16} '.format(i)\n",
    "str+='\\t\\t{:16} '.format(gate_names[oLoc])\n",
    "print(str)\n",
    "str=\"\"\n",
    "count=0\n",
    "for i in all_perms:\n",
    "    for j in i:\n",
    "        str+='{:16} '.format(j)\n",
    "    str+='{:16} '.format(truth_table_output[count])\n",
    "    count+=1\n",
    "    print(str)\n",
    "    str=\"\""
   ]
  },
  {
   "cell_type": "code",
   "execution_count": 1,
   "metadata": {},
   "outputs": [
    {
     "name": "stdout",
     "output_type": "stream",
     "text": [
      "BigHeader.h\t\t  a.cpp\t\t cpu.h\t mutex.h\t   semaphore.h\r\n",
      "Logic_Gates_Helper.ipynb  blank_img.png  cv.h\t mux_example.txt   thread.h\r\n",
      "Makefile\t\t  core\t\t disk.h  sample_input.txt\r\n"
     ]
    }
   ],
   "source": [
    "!ls"
   ]
  },
  {
   "cell_type": "code",
   "execution_count": 2,
   "metadata": {},
   "outputs": [
    {
     "ename": "TclError",
     "evalue": "couldn't connect to display \":0\"",
     "output_type": "error",
     "traceback": [
      "\u001b[0;31m---------------------------------------------------------------------------\u001b[0m",
      "\u001b[0;31mTclError\u001b[0m                                  Traceback (most recent call last)",
      "\u001b[0;32m<ipython-input-2-d8a3202d3c00>\u001b[0m in \u001b[0;36m<module>\u001b[0;34m\u001b[0m\n\u001b[1;32m      3\u001b[0m \u001b[0;32mimport\u001b[0m \u001b[0mmatplotlib\u001b[0m\u001b[0;34m.\u001b[0m\u001b[0mimage\u001b[0m \u001b[0;32mas\u001b[0m \u001b[0mmpimg\u001b[0m\u001b[0;34m\u001b[0m\u001b[0;34m\u001b[0m\u001b[0m\n\u001b[1;32m      4\u001b[0m \u001b[0;34m\u001b[0m\u001b[0m\n\u001b[0;32m----> 5\u001b[0;31m \u001b[0mfig\u001b[0m \u001b[0;34m=\u001b[0m \u001b[0mplt\u001b[0m\u001b[0;34m.\u001b[0m\u001b[0mfigure\u001b[0m\u001b[0;34m(\u001b[0m\u001b[0mfigsize\u001b[0m\u001b[0;34m=\u001b[0m\u001b[0;34m(\u001b[0m\u001b[0;36m20\u001b[0m\u001b[0;34m,\u001b[0m\u001b[0;36m30\u001b[0m\u001b[0;34m)\u001b[0m\u001b[0;34m)\u001b[0m\u001b[0;34m\u001b[0m\u001b[0;34m\u001b[0m\u001b[0m\n\u001b[0m\u001b[1;32m      6\u001b[0m \u001b[0;34m\u001b[0m\u001b[0m\n\u001b[1;32m      7\u001b[0m \u001b[0mimg\u001b[0m\u001b[0;34m=\u001b[0m\u001b[0mmpimg\u001b[0m\u001b[0;34m.\u001b[0m\u001b[0mimread\u001b[0m\u001b[0;34m(\u001b[0m\u001b[0;34m'blank_img.png'\u001b[0m\u001b[0;34m)\u001b[0m\u001b[0;34m\u001b[0m\u001b[0;34m\u001b[0m\u001b[0m\n",
      "\u001b[0;32m~/anaconda3/lib/python3.7/site-packages/matplotlib/pyplot.py\u001b[0m in \u001b[0;36mfigure\u001b[0;34m(num, figsize, dpi, facecolor, edgecolor, frameon, FigureClass, clear, **kwargs)\u001b[0m\n\u001b[1;32m    543\u001b[0m                                         \u001b[0mframeon\u001b[0m\u001b[0;34m=\u001b[0m\u001b[0mframeon\u001b[0m\u001b[0;34m,\u001b[0m\u001b[0;34m\u001b[0m\u001b[0;34m\u001b[0m\u001b[0m\n\u001b[1;32m    544\u001b[0m                                         \u001b[0mFigureClass\u001b[0m\u001b[0;34m=\u001b[0m\u001b[0mFigureClass\u001b[0m\u001b[0;34m,\u001b[0m\u001b[0;34m\u001b[0m\u001b[0;34m\u001b[0m\u001b[0m\n\u001b[0;32m--> 545\u001b[0;31m                                         **kwargs)\n\u001b[0m\u001b[1;32m    546\u001b[0m \u001b[0;34m\u001b[0m\u001b[0m\n\u001b[1;32m    547\u001b[0m         \u001b[0;32mif\u001b[0m \u001b[0mfigLabel\u001b[0m\u001b[0;34m:\u001b[0m\u001b[0;34m\u001b[0m\u001b[0;34m\u001b[0m\u001b[0m\n",
      "\u001b[0;32m~/anaconda3/lib/python3.7/site-packages/matplotlib/backend_bases.py\u001b[0m in \u001b[0;36mnew_figure_manager\u001b[0;34m(cls, num, *args, **kwargs)\u001b[0m\n\u001b[1;32m   3259\u001b[0m         \u001b[0mfig_cls\u001b[0m \u001b[0;34m=\u001b[0m \u001b[0mkwargs\u001b[0m\u001b[0;34m.\u001b[0m\u001b[0mpop\u001b[0m\u001b[0;34m(\u001b[0m\u001b[0;34m'FigureClass'\u001b[0m\u001b[0;34m,\u001b[0m \u001b[0mFigure\u001b[0m\u001b[0;34m)\u001b[0m\u001b[0;34m\u001b[0m\u001b[0;34m\u001b[0m\u001b[0m\n\u001b[1;32m   3260\u001b[0m         \u001b[0mfig\u001b[0m \u001b[0;34m=\u001b[0m \u001b[0mfig_cls\u001b[0m\u001b[0;34m(\u001b[0m\u001b[0;34m*\u001b[0m\u001b[0margs\u001b[0m\u001b[0;34m,\u001b[0m \u001b[0;34m**\u001b[0m\u001b[0mkwargs\u001b[0m\u001b[0;34m)\u001b[0m\u001b[0;34m\u001b[0m\u001b[0;34m\u001b[0m\u001b[0m\n\u001b[0;32m-> 3261\u001b[0;31m         \u001b[0;32mreturn\u001b[0m \u001b[0mcls\u001b[0m\u001b[0;34m.\u001b[0m\u001b[0mnew_figure_manager_given_figure\u001b[0m\u001b[0;34m(\u001b[0m\u001b[0mnum\u001b[0m\u001b[0;34m,\u001b[0m \u001b[0mfig\u001b[0m\u001b[0;34m)\u001b[0m\u001b[0;34m\u001b[0m\u001b[0;34m\u001b[0m\u001b[0m\n\u001b[0m\u001b[1;32m   3262\u001b[0m \u001b[0;34m\u001b[0m\u001b[0m\n\u001b[1;32m   3263\u001b[0m     \u001b[0;34m@\u001b[0m\u001b[0mclassmethod\u001b[0m\u001b[0;34m\u001b[0m\u001b[0;34m\u001b[0m\u001b[0m\n",
      "\u001b[0;32m~/anaconda3/lib/python3.7/site-packages/matplotlib/backends/_backend_tk.py\u001b[0m in \u001b[0;36mnew_figure_manager_given_figure\u001b[0;34m(cls, num, figure)\u001b[0m\n\u001b[1;32m    948\u001b[0m         \"\"\"\n\u001b[1;32m    949\u001b[0m         \u001b[0;32mwith\u001b[0m \u001b[0m_restore_foreground_window_at_end\u001b[0m\u001b[0;34m(\u001b[0m\u001b[0;34m)\u001b[0m\u001b[0;34m:\u001b[0m\u001b[0;34m\u001b[0m\u001b[0;34m\u001b[0m\u001b[0m\n\u001b[0;32m--> 950\u001b[0;31m             \u001b[0mwindow\u001b[0m \u001b[0;34m=\u001b[0m \u001b[0mtk\u001b[0m\u001b[0;34m.\u001b[0m\u001b[0mTk\u001b[0m\u001b[0;34m(\u001b[0m\u001b[0mclassName\u001b[0m\u001b[0;34m=\u001b[0m\u001b[0;34m\"matplotlib\"\u001b[0m\u001b[0;34m)\u001b[0m\u001b[0;34m\u001b[0m\u001b[0;34m\u001b[0m\u001b[0m\n\u001b[0m\u001b[1;32m    951\u001b[0m             \u001b[0mwindow\u001b[0m\u001b[0;34m.\u001b[0m\u001b[0mwithdraw\u001b[0m\u001b[0;34m(\u001b[0m\u001b[0;34m)\u001b[0m\u001b[0;34m\u001b[0m\u001b[0;34m\u001b[0m\u001b[0m\n\u001b[1;32m    952\u001b[0m \u001b[0;34m\u001b[0m\u001b[0m\n",
      "\u001b[0;32m~/anaconda3/lib/python3.7/tkinter/__init__.py\u001b[0m in \u001b[0;36m__init__\u001b[0;34m(self, screenName, baseName, className, useTk, sync, use)\u001b[0m\n\u001b[1;32m   2021\u001b[0m                 \u001b[0mbaseName\u001b[0m \u001b[0;34m=\u001b[0m \u001b[0mbaseName\u001b[0m \u001b[0;34m+\u001b[0m \u001b[0mext\u001b[0m\u001b[0;34m\u001b[0m\u001b[0;34m\u001b[0m\u001b[0m\n\u001b[1;32m   2022\u001b[0m         \u001b[0minteractive\u001b[0m \u001b[0;34m=\u001b[0m \u001b[0;36m0\u001b[0m\u001b[0;34m\u001b[0m\u001b[0;34m\u001b[0m\u001b[0m\n\u001b[0;32m-> 2023\u001b[0;31m         \u001b[0mself\u001b[0m\u001b[0;34m.\u001b[0m\u001b[0mtk\u001b[0m \u001b[0;34m=\u001b[0m \u001b[0m_tkinter\u001b[0m\u001b[0;34m.\u001b[0m\u001b[0mcreate\u001b[0m\u001b[0;34m(\u001b[0m\u001b[0mscreenName\u001b[0m\u001b[0;34m,\u001b[0m \u001b[0mbaseName\u001b[0m\u001b[0;34m,\u001b[0m \u001b[0mclassName\u001b[0m\u001b[0;34m,\u001b[0m \u001b[0minteractive\u001b[0m\u001b[0;34m,\u001b[0m \u001b[0mwantobjects\u001b[0m\u001b[0;34m,\u001b[0m \u001b[0museTk\u001b[0m\u001b[0;34m,\u001b[0m \u001b[0msync\u001b[0m\u001b[0;34m,\u001b[0m \u001b[0muse\u001b[0m\u001b[0;34m)\u001b[0m\u001b[0;34m\u001b[0m\u001b[0;34m\u001b[0m\u001b[0m\n\u001b[0m\u001b[1;32m   2024\u001b[0m         \u001b[0;32mif\u001b[0m \u001b[0museTk\u001b[0m\u001b[0;34m:\u001b[0m\u001b[0;34m\u001b[0m\u001b[0;34m\u001b[0m\u001b[0m\n\u001b[1;32m   2025\u001b[0m             \u001b[0mself\u001b[0m\u001b[0;34m.\u001b[0m\u001b[0m_loadtk\u001b[0m\u001b[0;34m(\u001b[0m\u001b[0;34m)\u001b[0m\u001b[0;34m\u001b[0m\u001b[0;34m\u001b[0m\u001b[0m\n",
      "\u001b[0;31mTclError\u001b[0m: couldn't connect to display \":0\""
     ]
    }
   ],
   "source": [
    "%matplotlib tk\n",
    "import matplotlib.pyplot as plt\n",
    "import matplotlib.image as mpimg\n",
    "\n",
    "fig = plt.figure(figsize=(20,30))\n",
    "\n",
    "img=mpimg.imread('blank_img.png')\n",
    "\n",
    "def onclick(event):\n",
    "    ix, iy = event.xdata, event.ydata\n",
    "    print(ix, iy)\n",
    "\n",
    "cid = fig.canvas.mpl_connect('button_press_event', onclick)\n",
    "\n",
    "imgplot = plt.imshow(img)\n",
    "plt.show()"
   ]
  },
  {
   "cell_type": "code",
   "execution_count": null,
   "metadata": {},
   "outputs": [],
   "source": [
    "# instr='{:16}{:30}{:50}'.format(\"Gates\\t|\",\"Gate Dependencies\\t\\t\\t|\",\"Cycles\")\n",
    "# print(instr)\n",
    "# for i in gate_names:\n",
    "#     cLoc=gate_names.index(i)\n",
    "#     instr='{:16}'.format(\"Gate \"+i+\"\\t|\")\n",
    "#     print(instr,end=\" \")\n",
    "#     str=[]\n",
    "#     for x in gate_deps[cLoc]:\n",
    "#         if x<0:\n",
    "#             str.append(input_names[-1*x-1])\n",
    "#         else:\n",
    "#             str.append(gate_names[x])\n",
    "#     if len(str)>1:\n",
    "#         if int(gate_types[cLoc]) == 0:\n",
    "#             for b in range(0,len(str)):\n",
    "#                 str.insert(b*2,'&')\n",
    "#         elif int(gate_types[cLoc]) == 1:\n",
    "#             for b in range(0,len(str)):\n",
    "#                 str.insert(b*2,'|')\n",
    "#         elif int(gate_types[cLoc]) == 2:\n",
    "#             for b in range(0,len(str)):\n",
    "#                 str.insert(b*2,'!&')\n",
    "#         str.pop(0)\n",
    "#     str=''.join(str)\n",
    "#     str='{:30}\\t|'.format(str)\n",
    "#     print(str,end=\" \")\n",
    "#     for j in OUTPUT:\n",
    "#         nstr='{:1} |'.format(j[cLoc])\n",
    "#         print(nstr,end=\" \")\n",
    "#     print()\n",
    "    \n",
    "# print(\"------------------------------------------------------------------------------\")\n",
    "# print(\"OUTPUT OVER TIME: \",end=\" \")\n",
    "# for j in OUTPUT:\n",
    "#     print(j[gate_names.index(output_gate)],end=\" \")\n",
    "#     if not (j == OUTPUT[-1]):\n",
    "#         print(\" -> \", end=\" \")"
   ]
  },
  {
   "cell_type": "code",
   "execution_count": null,
   "metadata": {},
   "outputs": [],
   "source": []
  },
  {
   "cell_type": "code",
   "execution_count": null,
   "metadata": {},
   "outputs": [],
   "source": []
  }
 ],
 "metadata": {
  "kernelspec": {
   "display_name": "Python 3",
   "language": "python",
   "name": "python3"
  },
  "language_info": {
   "codemirror_mode": {
    "name": "ipython",
    "version": 3
   },
   "file_extension": ".py",
   "mimetype": "text/x-python",
   "name": "python",
   "nbconvert_exporter": "python",
   "pygments_lexer": "ipython3",
   "version": "3.7.6"
  }
 },
 "nbformat": 4,
 "nbformat_minor": 4
}
